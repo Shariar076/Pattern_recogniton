{
 "cells": [
  {
   "cell_type": "code",
   "execution_count": 18,
   "metadata": {},
   "outputs": [],
   "source": [
    "import numpy as np\n",
    "import pandas as pd\n",
    "from sklearn.preprocessing import MinMaxScaler\n",
    "from sklearn.preprocessing import OneHotEncoder"
   ]
  },
  {
   "cell_type": "code",
   "execution_count": 94,
   "metadata": {},
   "outputs": [],
   "source": [
    "class NeuralNet:\n",
    "    def __init__(self, feats, labels, hidShape, miu=0.1, nItr = 10):\n",
    "        self.feats= feats\n",
    "        self.labels=labels\n",
    "        self.ni = np.shape(feats)[1]\n",
    "        self.no = np.shape(labels)[1]\n",
    "        self.hShape = hidShape\n",
    "        self.miu = miu\n",
    "        self.nItr = nItr\n",
    "        \n",
    "        self.iNodes = np.zeros(self.ni)\n",
    "        self.oNodes = np.zeros(self.no)\n",
    "        \n",
    "        self.ihWeights = np.random.randn(self.ni, self.hShape[0])\n",
    "        \n",
    "        self.oBiases = np.zeros(self.no)\n",
    "\n",
    "        self.hWeights = {}\n",
    "        for i in range(len(self.hShape)):\n",
    "            \n",
    "            if i==len(self.hShape)-1:\n",
    "                self.hWeights[i]=np.random.randn(self.hShape[i], self.no)\n",
    "            else:\n",
    "                self.hWeights[i]=np.random.randn(self.hShape[i], self.hShape[i+1])\n",
    "        \n",
    "        self.hNodes = {}\n",
    "        self.hBiases = {}\n",
    "        for i in range(len(self.hShape)):\n",
    "            self.hNodes[i]=np.zeros(self.hShape[i])\n",
    "            self.hBiases[i]=np.zeros(self.hShape[i])\n",
    "        \n",
    "        \n",
    "    def sigmoid(self, s):\n",
    "        return 1/(1+np.exp(-s))\n",
    "    \n",
    "    def forward(self, x):\n",
    "        self.iNodes=x\n",
    "        \n",
    "        vHid=np.dot(self.iNodes, self.ihWeights)\n",
    "        \n",
    "        for i in range(len(self.hShape)):\n",
    "            self.hNodes[i] = self.sigmoid(vHid)+self.hBiases[i]\n",
    "            vHid=np.dot(self.hNodes[i],self.hWeights[i])\n",
    "\n",
    "        self.oNodes=self.sigmoid(vHid)+self.oBiases\n",
    "    \n",
    "    def sigmoidPrime(self, s):\n",
    "        return s * (1 - s)\n",
    "    \n",
    "    def backward(self):\n",
    "        sumihDel = 0\n",
    "        sumhDel = {}\n",
    "        for i in range(len(self.hShape)):\n",
    "            if (i==len(self.hShape)-1):\n",
    "                sumhDel[i]= np.zeros(shape=[self.hShape[i],self.no])\n",
    "            else:\n",
    "                sumhDel[i]= np.zeros(shape=[self.hShape[i],self.hShape[i+1]])\n",
    "        for (x,y) in zip(self.feats,self.labels):\n",
    "            self.forward(x)\n",
    "            self.oError = self.oNodes-y\n",
    "            self.oDelta = self.oError*self.sigmoidPrime(self.oNodes)\n",
    "             \n",
    "            self.hError = {}\n",
    "            self.hDelta = {}\n",
    "            \n",
    "            for i in range(len(self.hShape)-1,0,-1):\n",
    "                if i==len(self.hShape)-1:\n",
    "                    self.hError[i] = np.dot(self.oDelta, self.hWeights[i].T)\n",
    "                    self.hDelta[i] = self.hError[i]*self.sigmoidPrime(self.hNodes[i])\n",
    "                    sumhDel[i] += np.dot(np.array([self.hNodes[i]]).T, np.array([self.oDelta]))\n",
    "                else:\n",
    "                    self.hError[i] = np.dot(self.hDelta[i+1], self.hWeights[i].T)\n",
    "                    self.hDelta[i] = self.hError[i]*self.sigmoidPrime(self.hNodes[i])\n",
    "                    sumhDel[i] += np.dot(np.array([self.hNodes[i]]).T, np.array([self.hDelta[i+1]]))\n",
    "            \n",
    "            if len(self.hShape)>1:\n",
    "                self.hError[0] = np.dot(self.hDelta[1], self.hWeights[0].T)\n",
    "            else:\n",
    "                self.hError[0] = np.dot(self.oDelta, self.hWeights[0].T)\n",
    "            \n",
    "            self.hDelta[0] = self.hError[0]*self.sigmoidPrime(self.hNodes[0])\n",
    "            \n",
    "            sumihDel += np.dot(np.array([self.iNodes]).T, np.array([self.hDelta[0]]))\n",
    "\n",
    "        for i in range(len(self.hShape)-1,0,-1):\n",
    "            self.hWeights[i] += -self.miu*sumhDel[i]\n",
    "        self.ihWeights += -self.miu*sumihDel\n",
    "        \n",
    "    def train(self, iterate=False):\n",
    "        if iterate:\n",
    "            for i in range(self.nItr):\n",
    "                self.backward()\n",
    "        else:\n",
    "            loop_count = 0\n",
    "            conv_count = 0\n",
    "            div_len = 2\n",
    "            \n",
    "            prev_acc=self.accuracy(self.feats,self.labels)\n",
    "            while True:\n",
    "                \n",
    "                self.backward()\n",
    "                loop_count+=1\n",
    "                accuracy = self.accuracy(self.feats,self.labels)\n",
    "\n",
    "                if abs(accuracy-prev_acc)<=div_len:\n",
    "                    conv_count+=1\n",
    "                else:\n",
    "                    conv_count=0\n",
    "                if conv_count==20:\n",
    "                    print(\"Converges after: \"+str(loop_count)+\" iterations\")\n",
    "                    break\n",
    "                if loop_count==200:\n",
    "                    print(\"accuracy so far: \"+str(self.accuracy(self.feats,self.labels)))\n",
    "                    print(str(loop_count)+\" iterations\")\n",
    "                    break\n",
    "            \n",
    "                \n",
    "    def accuracy(self, feats, labels):\n",
    "        count =0\n",
    "        for (x,y) in zip(feats,labels):\n",
    "            self.forward(x)\n",
    "            if np.argmax(y)==np.argmax(self.oNodes):\n",
    "                count+=1\n",
    "        return count/len(self.labels)*100\n",
    "               "
   ]
  },
  {
   "cell_type": "code",
   "execution_count": 96,
   "metadata": {},
   "outputs": [
    {
     "name": "stdout",
     "output_type": "stream",
     "text": [
      "accuracy so far: 100.0\n",
      "200 iterations\n",
      "98.32775919732441\n"
     ]
    }
   ],
   "source": [
    "\n",
    "dataset = pd.read_table('./datasets/Train.txt', sep='\\s+', skiprows=[0], header=None)\n",
    "# dataset = pd.read_table('./Perceptron/trainLinearlyNonSeparable.txt', sep='\\s+', header=None)\n",
    "array = dataset.values\n",
    "train_x = array[:, :-1]\n",
    "train_y = array[:, -1]\n",
    "\n",
    "feats = MinMaxScaler().fit_transform(train_x)\n",
    "labels = OneHotEncoder().fit_transform(train_y.reshape(-1, 1)).toarray()\n",
    "nFeat=np.shape(feats)[1]\n",
    "nClass=np.shape(labels)[1]\n",
    "\n",
    "model = NeuralNet(feats,labels,[2,5,10,4])\n",
    "# model.forward(x)\n",
    "# print(model.iNodes)\n",
    "# print(model.hNodes)\n",
    "# print(model.oNodes)\n",
    "model.train()\n",
    "# print(model.oError)\n",
    "dataset = pd.read_table('./datasets/Test.txt', sep='\\s+', skiprows=[0], header=None)\n",
    "# dataset = pd.read_table('./Perceptron/testLinearlyNonSeparable.txt', sep='\\s+', header=None)\n",
    "array = dataset.values\n",
    "train_x = array[:, :-1]\n",
    "train_y = array[:, -1]\n",
    "\n",
    "feats = MinMaxScaler().fit_transform(train_x)\n",
    "labels = OneHotEncoder().fit_transform(train_y.reshape(-1, 1)).toarray()\n",
    "print(model.accuracy(feats,labels))"
   ]
  },
  {
   "cell_type": "code",
   "execution_count": 105,
   "metadata": {},
   "outputs": [
    {
     "name": "stdout",
     "output_type": "stream",
     "text": [
      "{0: array([0, 1, 2, 3, 4])}\n"
     ]
    }
   ],
   "source": [
    "ar = {}\n",
    "\n",
    "for i in range(0,-1,-1):\n",
    "    ar[i]=np.arange(5)\n",
    "\n",
    "print(ar)"
   ]
  },
  {
   "cell_type": "code",
   "execution_count": 66,
   "metadata": {},
   "outputs": [
    {
     "data": {
      "text/plain": [
       "5"
      ]
     },
     "execution_count": 66,
     "metadata": {},
     "output_type": "execute_result"
    }
   ],
   "source": [
    "abs(-5)"
   ]
  }
 ],
 "metadata": {
  "celltoolbar": "Attachments",
  "kernelspec": {
   "display_name": "Python 3",
   "language": "python",
   "name": "python3"
  },
  "language_info": {
   "codemirror_mode": {
    "name": "ipython",
    "version": 3
   },
   "file_extension": ".py",
   "mimetype": "text/x-python",
   "name": "python",
   "nbconvert_exporter": "python",
   "pygments_lexer": "ipython3",
   "version": "3.6.6"
  }
 },
 "nbformat": 4,
 "nbformat_minor": 2
}
