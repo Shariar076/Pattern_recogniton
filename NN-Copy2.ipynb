{
 "cells": [
  {
   "cell_type": "code",
   "execution_count": 4,
   "metadata": {},
   "outputs": [],
   "source": [
    "import numpy as np\n",
    "import pandas as pd\n",
    "from sklearn.preprocessing import MinMaxScaler\n",
    "from sklearn.preprocessing import OneHotEncoder"
   ]
  },
  {
   "cell_type": "code",
   "execution_count": 42,
   "metadata": {},
   "outputs": [],
   "source": [
    "class NeuralNet:\n",
    "    def __init__(self, feats, labels, hidShape, miu=0.1, nItr = 10):\n",
    "        self.feats= feats\n",
    "        self.labels=labels\n",
    "        self.ni = np.shape(feats)[1]\n",
    "        self.no = np.shape(labels)[1]\n",
    "        self.hShape = hidShape\n",
    "        self.miu = miu\n",
    "        self.nItr = nItr\n",
    "        \n",
    "        self.iNodes = np.zeros(self.ni)\n",
    "        self.oNodes = np.zeros(self.no)\n",
    "        \n",
    "        self.ihWeights = np.random.randn(self.ni, self.hShape[0])\n",
    "        \n",
    "        self.oBiases = np.zeros(self.no)\n",
    "\n",
    "        self.hWeights = {}\n",
    "        for i in range(len(self.hShape)):\n",
    "            self.hWeights[i]=np.random.randn(self.hShape[i], self.hShape[i+1])\n",
    "            if(i==len(self.hShape)-1)self.hWeights[i]=np.random.randn(self.hShape[i], self.no)\n",
    "        \n",
    "        self.hNodes = {}\n",
    "        self.hBiases = {}\n",
    "        for i in range(len(self.hShape)):\n",
    "            self.hNodes[i]=np.zeros(self.hShape[i])\n",
    "            self.hBiases[i]=np.zeros(self.hShape[i])\n",
    "        \n",
    "        \n",
    "    def sigmoid(self, s):\n",
    "        return 1/(1+np.exp(-s))\n",
    "    \n",
    "    def forward(self, x):\n",
    "        self.iNodes=x\n",
    "        \n",
    "        vHid=np.dot(self.iNodes,self.ihWeights)\n",
    "        \n",
    "        for i in range(len(self.hShape)):\n",
    "            self.hNodes[i] = self.sigmoid(vHid)+self.hBiases[i]\n",
    "            vHid=np.dot(self.hNodes[i],self.hWeights[i])\n",
    "\n",
    "        self.oNodes=self.sigmoid(vHid)+self.oBiases\n",
    "    \n",
    "    def sigmoidPrime(self, s):\n",
    "        return s * (1 - s)\n",
    "    \n",
    "    def backward(self):\n",
    "        sumihDel = 0\n",
    "        sumhDel = {}\n",
    "        for i in range(len(self.hShape)):\n",
    "            sumhDel[i]=0\n",
    "        for (x,y) in zip(self.feats,self.labels):\n",
    "            self.forward(x)\n",
    "            self.oError = self.oNodes-y\n",
    "            self.oDelta = self.oError*self.sigmoidPrime(self.oNodes)\n",
    "             \n",
    "            self.hError = {}\n",
    "            self.hDelta = {}\n",
    "            \n",
    "            for i in range(len(self.hShape)-1,0,-1):\n",
    "                if i==len(self.hShape)-1:\n",
    "                    self.hError[i] = np.dot(self.oDelta, self.hoWeights.T)\n",
    "                    self.hDelta[i] = self.hError[i]*self.sigmoidPrime(self.hNodes[i])\n",
    "                    sumhDel[i] += np.dot(np.array([self.hNodes[i-1]]).T, np.array([self.hDelta[i]]))\n",
    "                else:\n",
    "                    self.hError[i] = np.dot(self.hDelta[i+1], self.hWeights[i].T)\n",
    "                    self.hDelta[i] = self.hError[i]*self.sigmoidPrime(self.hNodes[i])\n",
    "                    sumhDel[i] += np.dot(np.array([self.hNodes[i-1]]).T, np.array([self.hDelta[i]]))\n",
    "            \n",
    "            self.hError[0] = np.dot(self.hDelta[1], self.hWeights[0].T)\n",
    "            self.hDelta[0] = self.hError[0]*self.sigmoidPrime(self.hNodes[0])\n",
    "            sumihDel += np.dot(np.array([self.iNodes]).T, np.array([self.hDelta[0]]))\n",
    "\n",
    "        self.hoWeights += -self.miu*sumhoDel\n",
    "        for i in range(len(self.hShape)-1,0,-1):\n",
    "            self.hWeights[i-1] += -self.miu*sumhDel[i]\n",
    "        self.ihWeights += -self.miu*sumihDel\n",
    "        \n",
    "    def train(self, iterate=False):\n",
    "        if iterate:\n",
    "            for i in range(self.nItr):\n",
    "                self.backward()\n",
    "        else:\n",
    "            accuracy = self.accuracy(self.feats,self.labels)\n",
    "            loop_count = 0\n",
    "            while True:\n",
    "                self.backward()\n",
    "                loop_count += 1\n",
    "                if self.accuracy(self.feats,self.labels) == 100.0:\n",
    "                    break\n",
    "                if loop_count==200:\n",
    "                    print(\"accuracy so far: \"+str(self.accuracy(self.feats,self.labels)))\n",
    "                    break\n",
    "            \n",
    "                \n",
    "    def accuracy(self, feats, labels):\n",
    "        count =0\n",
    "        for (x,y) in zip(feats,labels):\n",
    "            self.forward(x)\n",
    "            if np.argmax(y)==np.argmax(self.oNodes):\n",
    "                count+=1\n",
    "        return count/len(self.labels)*100\n",
    "               "
   ]
  },
  {
   "cell_type": "code",
   "execution_count": 43,
   "metadata": {},
   "outputs": [
    {
     "name": "stdout",
     "output_type": "stream",
     "text": [
      "(3, 1)\n",
      "(1, 10)\n",
      "(10, 3)\n"
     ]
    },
    {
     "ename": "ValueError",
     "evalue": "shapes (3,) and (10,) not aligned: 3 (dim 0) != 10 (dim 0)",
     "output_type": "error",
     "traceback": [
      "\u001b[0;31m---------------------------------------------------------------------------\u001b[0m",
      "\u001b[0;31mValueError\u001b[0m                                Traceback (most recent call last)",
      "\u001b[0;32m<ipython-input-43-6149e86ff4cd>\u001b[0m in \u001b[0;36m<module>\u001b[0;34m()\u001b[0m\n\u001b[1;32m     16\u001b[0m \u001b[0;31m# print(model.hNodes)\u001b[0m\u001b[0;34m\u001b[0m\u001b[0;34m\u001b[0m\u001b[0m\n\u001b[1;32m     17\u001b[0m \u001b[0;31m# print(model.oNodes)\u001b[0m\u001b[0;34m\u001b[0m\u001b[0;34m\u001b[0m\u001b[0m\n\u001b[0;32m---> 18\u001b[0;31m \u001b[0mmodel\u001b[0m\u001b[0;34m.\u001b[0m\u001b[0mtrain\u001b[0m\u001b[0;34m(\u001b[0m\u001b[0;34m)\u001b[0m\u001b[0;34m\u001b[0m\u001b[0m\n\u001b[0m\u001b[1;32m     19\u001b[0m \u001b[0;31m# print(model.oError)\u001b[0m\u001b[0;34m\u001b[0m\u001b[0;34m\u001b[0m\u001b[0m\n\u001b[1;32m     20\u001b[0m \u001b[0mdataset\u001b[0m \u001b[0;34m=\u001b[0m \u001b[0mpd\u001b[0m\u001b[0;34m.\u001b[0m\u001b[0mread_table\u001b[0m\u001b[0;34m(\u001b[0m\u001b[0;34m'./datasets/Test.txt'\u001b[0m\u001b[0;34m,\u001b[0m \u001b[0msep\u001b[0m\u001b[0;34m=\u001b[0m\u001b[0;34m'\\s+'\u001b[0m\u001b[0;34m,\u001b[0m \u001b[0mskiprows\u001b[0m\u001b[0;34m=\u001b[0m\u001b[0;34m[\u001b[0m\u001b[0;36m0\u001b[0m\u001b[0;34m]\u001b[0m\u001b[0;34m,\u001b[0m \u001b[0mheader\u001b[0m\u001b[0;34m=\u001b[0m\u001b[0;32mNone\u001b[0m\u001b[0;34m)\u001b[0m\u001b[0;34m\u001b[0m\u001b[0m\n",
      "\u001b[0;32m<ipython-input-42-78b3fb4914ec>\u001b[0m in \u001b[0;36mtrain\u001b[0;34m(self, iterate)\u001b[0m\n\u001b[1;32m     97\u001b[0m             \u001b[0mloop_count\u001b[0m \u001b[0;34m=\u001b[0m \u001b[0;36m0\u001b[0m\u001b[0;34m\u001b[0m\u001b[0m\n\u001b[1;32m     98\u001b[0m             \u001b[0;32mwhile\u001b[0m \u001b[0;32mTrue\u001b[0m\u001b[0;34m:\u001b[0m\u001b[0;34m\u001b[0m\u001b[0m\n\u001b[0;32m---> 99\u001b[0;31m                 \u001b[0mself\u001b[0m\u001b[0;34m.\u001b[0m\u001b[0mbackward\u001b[0m\u001b[0;34m(\u001b[0m\u001b[0;34m)\u001b[0m\u001b[0;34m\u001b[0m\u001b[0m\n\u001b[0m\u001b[1;32m    100\u001b[0m                 \u001b[0mloop_count\u001b[0m \u001b[0;34m+=\u001b[0m \u001b[0;36m1\u001b[0m\u001b[0;34m\u001b[0m\u001b[0m\n\u001b[1;32m    101\u001b[0m                 \u001b[0;32mif\u001b[0m \u001b[0mself\u001b[0m\u001b[0;34m.\u001b[0m\u001b[0maccuracy\u001b[0m\u001b[0;34m(\u001b[0m\u001b[0mself\u001b[0m\u001b[0;34m.\u001b[0m\u001b[0mfeats\u001b[0m\u001b[0;34m,\u001b[0m\u001b[0mself\u001b[0m\u001b[0;34m.\u001b[0m\u001b[0mlabels\u001b[0m\u001b[0;34m)\u001b[0m \u001b[0;34m==\u001b[0m \u001b[0;36m100.0\u001b[0m\u001b[0;34m:\u001b[0m\u001b[0;34m\u001b[0m\u001b[0m\n",
      "\u001b[0;32m<ipython-input-42-78b3fb4914ec>\u001b[0m in \u001b[0;36mbackward\u001b[0;34m(self)\u001b[0m\n\u001b[1;32m     77\u001b[0m                     \u001b[0mprint\u001b[0m\u001b[0;34m(\u001b[0m\u001b[0mnp\u001b[0m\u001b[0;34m.\u001b[0m\u001b[0mshape\u001b[0m\u001b[0;34m(\u001b[0m\u001b[0mnp\u001b[0m\u001b[0;34m.\u001b[0m\u001b[0marray\u001b[0m\u001b[0;34m(\u001b[0m\u001b[0;34m[\u001b[0m\u001b[0mself\u001b[0m\u001b[0;34m.\u001b[0m\u001b[0mhDelta\u001b[0m\u001b[0;34m[\u001b[0m\u001b[0mi\u001b[0m\u001b[0;34m]\u001b[0m\u001b[0;34m]\u001b[0m\u001b[0;34m)\u001b[0m\u001b[0;34m)\u001b[0m\u001b[0;34m)\u001b[0m\u001b[0;34m\u001b[0m\u001b[0m\n\u001b[1;32m     78\u001b[0m                     \u001b[0mprint\u001b[0m\u001b[0;34m(\u001b[0m\u001b[0mnp\u001b[0m\u001b[0;34m.\u001b[0m\u001b[0mshape\u001b[0m\u001b[0;34m(\u001b[0m\u001b[0msumhDel\u001b[0m\u001b[0;34m[\u001b[0m\u001b[0mi\u001b[0m\u001b[0;34m]\u001b[0m\u001b[0;34m)\u001b[0m\u001b[0;34m)\u001b[0m\u001b[0;34m\u001b[0m\u001b[0m\n\u001b[0;32m---> 79\u001b[0;31m                     \u001b[0msumhDel\u001b[0m\u001b[0;34m[\u001b[0m\u001b[0mi\u001b[0m\u001b[0;34m]\u001b[0m \u001b[0;34m+=\u001b[0m \u001b[0mnp\u001b[0m\u001b[0;34m.\u001b[0m\u001b[0mdot\u001b[0m\u001b[0;34m(\u001b[0m\u001b[0mnp\u001b[0m\u001b[0;34m.\u001b[0m\u001b[0marray\u001b[0m\u001b[0;34m(\u001b[0m\u001b[0mself\u001b[0m\u001b[0;34m.\u001b[0m\u001b[0miNodes\u001b[0m\u001b[0;34m)\u001b[0m\u001b[0;34m.\u001b[0m\u001b[0mT\u001b[0m\u001b[0;34m,\u001b[0m \u001b[0mnp\u001b[0m\u001b[0;34m.\u001b[0m\u001b[0marray\u001b[0m\u001b[0;34m(\u001b[0m\u001b[0mself\u001b[0m\u001b[0;34m.\u001b[0m\u001b[0mhDelta\u001b[0m\u001b[0;34m[\u001b[0m\u001b[0mi\u001b[0m\u001b[0;34m]\u001b[0m\u001b[0;34m)\u001b[0m\u001b[0;34m)\u001b[0m\u001b[0;34m\u001b[0m\u001b[0m\n\u001b[0m\u001b[1;32m     80\u001b[0m                 \u001b[0;32melse\u001b[0m\u001b[0;34m:\u001b[0m\u001b[0;34m\u001b[0m\u001b[0m\n\u001b[1;32m     81\u001b[0m                     \u001b[0msumhDel\u001b[0m\u001b[0;34m[\u001b[0m\u001b[0mi\u001b[0m\u001b[0;34m]\u001b[0m \u001b[0;34m+=\u001b[0m \u001b[0mnp\u001b[0m\u001b[0;34m.\u001b[0m\u001b[0mdot\u001b[0m\u001b[0;34m(\u001b[0m\u001b[0mnp\u001b[0m\u001b[0;34m.\u001b[0m\u001b[0marray\u001b[0m\u001b[0;34m(\u001b[0m\u001b[0mself\u001b[0m\u001b[0;34m.\u001b[0m\u001b[0mhNodes\u001b[0m\u001b[0;34m[\u001b[0m\u001b[0mi\u001b[0m\u001b[0;34m]\u001b[0m\u001b[0;34m)\u001b[0m\u001b[0;34m.\u001b[0m\u001b[0mT\u001b[0m\u001b[0;34m,\u001b[0m \u001b[0mnp\u001b[0m\u001b[0;34m.\u001b[0m\u001b[0marray\u001b[0m\u001b[0;34m(\u001b[0m\u001b[0;34m[\u001b[0m\u001b[0mself\u001b[0m\u001b[0;34m.\u001b[0m\u001b[0mhDelta\u001b[0m\u001b[0;34m[\u001b[0m\u001b[0mi\u001b[0m\u001b[0;34m]\u001b[0m\u001b[0;34m]\u001b[0m\u001b[0;34m)\u001b[0m\u001b[0;34m)\u001b[0m\u001b[0;34m\u001b[0m\u001b[0m\n",
      "\u001b[0;31mValueError\u001b[0m: shapes (3,) and (10,) not aligned: 3 (dim 0) != 10 (dim 0)"
     ]
    }
   ],
   "source": [
    "\n",
    "dataset = pd.read_table('./datasets/Train.txt', sep='\\s+', skiprows=[0], header=None)\n",
    "# dataset = pd.read_table('./Perceptron/trainLinearlyNonSeparable.txt', sep='\\s+', header=None)\n",
    "array = dataset.values\n",
    "train_x = array[:, :-1]\n",
    "train_y = array[:, -1]\n",
    "\n",
    "feats = MinMaxScaler().fit_transform(train_x)\n",
    "labels = OneHotEncoder().fit_transform(train_y.reshape(-1, 1)).toarray()\n",
    "nFeat=np.shape(feats)[1]\n",
    "nClass=np.shape(labels)[1]\n",
    "\n",
    "model = NeuralNet(feats,labels,[10])\n",
    "# model.forward(x)\n",
    "# print(model.iNodes)\n",
    "# print(model.hNodes)\n",
    "# print(model.oNodes)\n",
    "model.train()\n",
    "# print(model.oError)\n",
    "dataset = pd.read_table('./datasets/Test.txt', sep='\\s+', skiprows=[0], header=None)\n",
    "# dataset = pd.read_table('./Perceptron/testLinearlyNonSeparable.txt', sep='\\s+', header=None)\n",
    "array = dataset.values\n",
    "train_x = array[:, :-1]\n",
    "train_y = array[:, -1]\n",
    "\n",
    "feats = MinMaxScaler().fit_transform(train_x)\n",
    "labels = OneHotEncoder().fit_transform(train_y.reshape(-1, 1)).toarray()\n",
    "print(model.accuracy(feats,labels))"
   ]
  },
  {
   "cell_type": "code",
   "execution_count": 54,
   "metadata": {},
   "outputs": [
    {
     "name": "stdout",
     "output_type": "stream",
     "text": [
      "{1: array([0]), 2: array([0, 1]), 3: array([0, 1, 2]), 4: array([0, 1, 2, 3]), 5: array([0, 1, 2, 3, 4]), 6: array([0, 1, 2, 3, 4, 5])}\n"
     ]
    }
   ],
   "source": [
    "ar = {}\n",
    "\n",
    "for i in range(1,7):\n",
    "    ar[i]=np.arange(i)\n",
    "\n",
    "print(ar)"
   ]
  },
  {
   "cell_type": "code",
   "execution_count": 25,
   "metadata": {},
   "outputs": [
    {
     "name": "stdout",
     "output_type": "stream",
     "text": [
      "[50, 49, 48, 47, 46, 45, 44, 43, 42, 41, 40, 39, 38, 37, 36, 35, 34, 33, 32, 31, 30, 29, 28, 27, 26, 25, 24, 23, 22, 21, 20, 19, 18, 17, 16, 15, 14, 13, 12, 11, 10, 9, 8, 7, 6, 5, 4, 3, 2, 1, 0]\n"
     ]
    }
   ],
   "source": [
    "print(list(range(50,-1, -1)))"
   ]
  }
 ],
 "metadata": {
  "celltoolbar": "Attachments",
  "kernelspec": {
   "display_name": "Python 3",
   "language": "python",
   "name": "python3"
  },
  "language_info": {
   "codemirror_mode": {
    "name": "ipython",
    "version": 3
   },
   "file_extension": ".py",
   "mimetype": "text/x-python",
   "name": "python",
   "nbconvert_exporter": "python",
   "pygments_lexer": "ipython3",
   "version": "3.6.6"
  }
 },
 "nbformat": 4,
 "nbformat_minor": 2
}
